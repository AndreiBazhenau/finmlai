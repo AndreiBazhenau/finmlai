{
 "cells": [
  {
   "cell_type": "markdown",
   "metadata": {},
   "source": [
    "# Objectives \n",
    "- EDA/Data analysis\n",
    "- Extract, transform, load\n",
    "- Data visualization \n",
    "- Explainable to a 5 years old"
   ]
  },
  {
   "cell_type": "code",
   "execution_count": 2,
   "metadata": {},
   "outputs": [],
   "source": [
    "# Import the goodies\n",
    "import pandas as pd\n",
    "import numpy as np \n",
    "import matplotlib as plt "
   ]
  },
  {
   "cell_type": "code",
   "execution_count": 3,
   "metadata": {},
   "outputs": [
    {
     "name": "stderr",
     "output_type": "stream",
     "text": [
      "C:\\Users\\Hopiod\\AppData\\Local\\Temp\\ipykernel_5296\\1504579113.py:2: DtypeWarning: Columns (0) have mixed types. Specify dtype option on import or set low_memory=False.\n",
      "  df = pd.read_csv('Online Sales Data.csv')\n"
     ]
    }
   ],
   "source": [
    "# import data\n",
    "df = pd.read_csv('Online Sales Data.csv')\n",
    "df.head()"
   ]
  },
  {
   "cell_type": "code",
   "execution_count": null,
   "metadata": {},
   "outputs": [],
   "source": []
  }
 ],
 "metadata": {
  "kernelspec": {
   "display_name": "Python 3.10.4 ('mlai')",
   "language": "python",
   "name": "python3"
  },
  "language_info": {
   "codemirror_mode": {
    "name": "ipython",
    "version": 3
   },
   "file_extension": ".py",
   "mimetype": "text/x-python",
   "name": "python",
   "nbconvert_exporter": "python",
   "pygments_lexer": "ipython3",
   "version": "3.10.4"
  },
  "orig_nbformat": 4,
  "vscode": {
   "interpreter": {
    "hash": "c2bf3cc7b6c2fc77e78df3a51b8dd4680428036a551561783d61f592aa6cdee7"
   }
  }
 },
 "nbformat": 4,
 "nbformat_minor": 2
}
